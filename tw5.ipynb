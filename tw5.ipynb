{
 "cells": [
  {
   "cell_type": "markdown",
   "id": "583b1776",
   "metadata": {},
   "source": [
    "# Weakly nonlinear analysis of traveling and standing waves\n",
    "(this is the definite one)\n",
    "\n",
    "In what follows, we will study __the model__\n",
    "\\begin{equation}\n",
    "\\label{eq:csh}\n",
    "\\partial_t A=(\\xi+i \\gamma)A-(C_3+i\\mu)|A|^2A-C_5 |A|^4A-(q^2+\\nabla^2)^2 A+i\\delta \\nabla^2 A,\n",
    "\\end{equation}\n",
    "we set\n",
    "\\begin{align}\n",
    "A&=\\epsilon a(x,\\tau,t) e^{i\\omega t}+\\epsilon^3 z_3(x) e^{i \\omega t}+\\ldots\\\\\n",
    "&= \\epsilon[ v(\\tau) e^{ikx}+\\bar{w}(\\tau)e^{-ikx}]e^{i\\omega t}+\\epsilon^3 z_3(x) e^{i\\omega t}+\\ldots\n",
    "\\end{align}\n",
    "and\n",
    "$$\\omega=\\omega_0+\\epsilon^2 \\omega_2+\\ldots$$\n",
    "$$\\xi=\\xi_0+\\epsilon^2 \\xi_2+\\ldots$$\n",
    "$$\\tau=\\epsilon^2 t \\to \\frac{d \\tau}{dt}=\\epsilon^2\\to \\partial_t=\\partial_t +\\epsilon^2 \\partial_\\tau$$\n",
    "Using these expansions, we collect terms at each order"
   ]
  },
  {
   "cell_type": "markdown",
   "id": "cdbeff96",
   "metadata": {},
   "source": [
    "## Let's write the left and right hand side of this expression"
   ]
  },
  {
   "cell_type": "code",
   "execution_count": 1,
   "id": "dc03bec0",
   "metadata": {},
   "outputs": [
    {
     "data": {
      "text/latex": [
       "$\\displaystyle \\epsilon^{3} \\operatorname{z_{3}}{\\left(x \\right)} e^{i \\omega t} + \\epsilon \\left(v{\\left(\\tau \\right)} e^{i k x} + w{\\left(\\tau \\right)} e^{- i k x}\\right) e^{i \\omega t}$"
      ],
      "text/plain": [
       "epsilon**3*z3(x)*exp(I*omega*t) + epsilon*(v(tau)*exp(I*k*x) + w(tau)*exp(-I*k*x))*exp(I*omega*t)"
      ]
     },
     "execution_count": 1,
     "metadata": {},
     "output_type": "execute_result"
    }
   ],
   "source": [
    "from sympy import *;\n",
    "[epsilon,k,x,t,omega,tau]=symbols('epsilon,k,x,t,omega,tau',real=True);\n",
    "v=Function('v'); w=Function('w'); z3=Function('z3');\n",
    "A=epsilon*(v(tau)*exp(I*k*x)+w(tau)*exp(-I*k*x))*exp(I*omega*t)+epsilon**3*z3(x)*exp(I*omega*t);\n",
    "A"
   ]
  },
  {
   "cell_type": "markdown",
   "id": "c623f1f2",
   "metadata": {},
   "source": [
    "Hence, $A$ and its derivative $\\partial_t A=\\partial_t A+ \\epsilon^2 \\partial_\\tau A$ are"
   ]
  },
  {
   "cell_type": "code",
   "execution_count": 7,
   "id": "fe7d2a81",
   "metadata": {},
   "outputs": [
    {
     "data": {
      "text/latex": [
       "$\\displaystyle i \\epsilon^{3} \\omega \\operatorname{z_{3}}{\\left(x \\right)} e^{i \\omega t} + \\epsilon^{3} \\left(e^{i k x} \\frac{d}{d \\tau} v{\\left(\\tau \\right)} + e^{- i k x} \\frac{d}{d \\tau} w{\\left(\\tau \\right)}\\right) e^{i \\omega t} + i \\epsilon \\omega \\left(v{\\left(\\tau \\right)} e^{i k x} + w{\\left(\\tau \\right)} e^{- i k x}\\right) e^{i \\omega t}$"
      ],
      "text/plain": [
       "I*epsilon**3*omega*z3(x)*exp(I*omega*t) + epsilon**3*(exp(I*k*x)*Derivative(v(tau), tau) + exp(-I*k*x)*Derivative(w(tau), tau))*exp(I*omega*t) + I*epsilon*omega*(v(tau)*exp(I*k*x) + w(tau)*exp(-I*k*x))*exp(I*omega*t)"
      ]
     },
     "execution_count": 7,
     "metadata": {},
     "output_type": "execute_result"
    }
   ],
   "source": [
    "At=diff(A,t)+epsilon**2*diff(A,tau); At"
   ]
  },
  {
   "cell_type": "markdown",
   "id": "727bc6a5",
   "metadata": {},
   "source": [
    "removing the factor $e^{i\\omega t}$ and replacing $\\xi$ and $\\omega$ $\\ldots$"
   ]
  },
  {
   "cell_type": "code",
   "execution_count": 5,
   "id": "079e55ef",
   "metadata": {},
   "outputs": [],
   "source": [
    "[omega0,omega2]=symbols('omega0,omega2',real=True);"
   ]
  },
  {
   "cell_type": "code",
   "execution_count": 16,
   "id": "0908271c",
   "metadata": {},
   "outputs": [
    {
     "data": {
      "text/latex": [
       "$\\displaystyle \\epsilon \\left(i \\omega_{0} v{\\left(\\tau \\right)} e^{i k x} + i \\omega_{0} w{\\left(\\tau \\right)} e^{- i k x}\\right) + \\epsilon^{3} \\left(i \\omega_{0} \\operatorname{z_{3}}{\\left(x \\right)} + i \\omega_{2} v{\\left(\\tau \\right)} e^{i k x} + i \\omega_{2} w{\\left(\\tau \\right)} e^{- i k x} + e^{i k x} \\frac{d}{d \\tau} v{\\left(\\tau \\right)} + e^{- i k x} \\frac{d}{d \\tau} w{\\left(\\tau \\right)}\\right) + O\\left(\\epsilon^{4}\\right)$"
      ],
      "text/plain": [
       "epsilon*(I*omega0*v(tau)*exp(I*k*x) + I*omega0*w(tau)*exp(-I*k*x)) + epsilon**3*(I*omega0*z3(x) + I*omega2*v(tau)*exp(I*k*x) + I*omega2*w(tau)*exp(-I*k*x) + exp(I*k*x)*Derivative(v(tau), tau) + exp(-I*k*x)*Derivative(w(tau), tau)) + O(epsilon**4)"
      ]
     },
     "execution_count": 16,
     "metadata": {},
     "output_type": "execute_result"
    }
   ],
   "source": [
    "lhs=collect(expand(expand(At*exp(-I*omega*t)).subs(omega,omega0+epsilon**2*omega2)),epsilon)+O(epsilon**4); lhs"
   ]
  },
  {
   "cell_type": "markdown",
   "id": "7839ffca",
   "metadata": {},
   "source": [
    "Now for the right hand side"
   ]
  },
  {
   "cell_type": "code",
   "execution_count": 17,
   "id": "44613d40",
   "metadata": {},
   "outputs": [
    {
     "data": {
      "text/latex": [
       "$\\displaystyle i \\Delta a \\delta - a^{3} c_{5} \\overline{a}^{2} - a^{2} \\left(c_{3} + i \\mu\\right) \\overline{a} - a \\left(\\Delta + q^{2}\\right)^{2} + a \\left(i \\gamma + \\xi\\right)$"
      ],
      "text/plain": [
       "I*Delta*a*delta - a**3*c5*conjugate(a)**2 - a**2*(c3 + I*mu)*conjugate(a) - a*(Delta + q**2)**2 + a*(I*gamma + xi)"
      ]
     },
     "execution_count": 17,
     "metadata": {},
     "output_type": "execute_result"
    }
   ],
   "source": [
    "[xi,gamma,c3,mu,c5,q,delta,Delta]=symbols('xi,gamma,c3,mu,c5,q,delta,Delta',real=True); a=Symbol('a'); \n",
    "rhs=(xi+I*gamma)*a-a**2*conjugate(a)*(c3+I*mu)-c5*conjugate(a)**2*a**3-(q**2+Delta)**2*a+I*delta*Delta*a; rhs"
   ]
  },
  {
   "cell_type": "code",
   "execution_count": 30,
   "id": "4bc470ab",
   "metadata": {},
   "outputs": [
    {
     "data": {
      "text/latex": [
       "$\\displaystyle \\epsilon \\left(- \\Delta^{2} v{\\left(\\tau \\right)} e^{i k x} - \\Delta^{2} w{\\left(\\tau \\right)} e^{- i k x} + i \\Delta \\delta v{\\left(\\tau \\right)} e^{i k x} + i \\Delta \\delta w{\\left(\\tau \\right)} e^{- i k x} - 2 \\Delta q^{2} v{\\left(\\tau \\right)} e^{i k x} - 2 \\Delta q^{2} w{\\left(\\tau \\right)} e^{- i k x} + i \\gamma v{\\left(\\tau \\right)} e^{i k x} + i \\gamma w{\\left(\\tau \\right)} e^{- i k x} - q^{4} v{\\left(\\tau \\right)} e^{i k x} - q^{4} w{\\left(\\tau \\right)} e^{- i k x} + \\xi_{0} v{\\left(\\tau \\right)} e^{i k x} + \\xi_{0} w{\\left(\\tau \\right)} e^{- i k x}\\right) + \\epsilon^{3} \\left(- \\Delta^{2} \\operatorname{z_{3}}{\\left(x \\right)} + i \\Delta \\delta \\operatorname{z_{3}}{\\left(x \\right)} - 2 \\Delta q^{2} \\operatorname{z_{3}}{\\left(x \\right)} - c_{3} v^{2}{\\left(\\tau \\right)} e^{3 i k x} \\overline{w{\\left(\\tau \\right)}} - c_{3} v^{2}{\\left(\\tau \\right)} e^{i k x} \\overline{v{\\left(\\tau \\right)}} - 2 c_{3} v{\\left(\\tau \\right)} w{\\left(\\tau \\right)} e^{i k x} \\overline{w{\\left(\\tau \\right)}} - 2 c_{3} v{\\left(\\tau \\right)} w{\\left(\\tau \\right)} e^{- i k x} \\overline{v{\\left(\\tau \\right)}} - c_{3} w^{2}{\\left(\\tau \\right)} e^{- i k x} \\overline{w{\\left(\\tau \\right)}} - c_{3} w^{2}{\\left(\\tau \\right)} e^{- 3 i k x} \\overline{v{\\left(\\tau \\right)}} + i \\gamma \\operatorname{z_{3}}{\\left(x \\right)} - i \\mu v^{2}{\\left(\\tau \\right)} e^{3 i k x} \\overline{w{\\left(\\tau \\right)}} - i \\mu v^{2}{\\left(\\tau \\right)} e^{i k x} \\overline{v{\\left(\\tau \\right)}} - 2 i \\mu v{\\left(\\tau \\right)} w{\\left(\\tau \\right)} e^{i k x} \\overline{w{\\left(\\tau \\right)}} - 2 i \\mu v{\\left(\\tau \\right)} w{\\left(\\tau \\right)} e^{- i k x} \\overline{v{\\left(\\tau \\right)}} - i \\mu w^{2}{\\left(\\tau \\right)} e^{- i k x} \\overline{w{\\left(\\tau \\right)}} - i \\mu w^{2}{\\left(\\tau \\right)} e^{- 3 i k x} \\overline{v{\\left(\\tau \\right)}} - q^{4} \\operatorname{z_{3}}{\\left(x \\right)} + \\xi_{0} \\operatorname{z_{3}}{\\left(x \\right)} + \\xi_{2} v{\\left(\\tau \\right)} e^{i k x} + \\xi_{2} w{\\left(\\tau \\right)} e^{- i k x}\\right) + O\\left(\\epsilon^{4}\\right)$"
      ],
      "text/plain": [
       "epsilon*(-Delta**2*v(tau)*exp(I*k*x) - Delta**2*w(tau)*exp(-I*k*x) + I*Delta*delta*v(tau)*exp(I*k*x) + I*Delta*delta*w(tau)*exp(-I*k*x) - 2*Delta*q**2*v(tau)*exp(I*k*x) - 2*Delta*q**2*w(tau)*exp(-I*k*x) + I*gamma*v(tau)*exp(I*k*x) + I*gamma*w(tau)*exp(-I*k*x) - q**4*v(tau)*exp(I*k*x) - q**4*w(tau)*exp(-I*k*x) + xi0*v(tau)*exp(I*k*x) + xi0*w(tau)*exp(-I*k*x)) + epsilon**3*(-Delta**2*z3(x) + I*Delta*delta*z3(x) - 2*Delta*q**2*z3(x) - c3*v(tau)**2*exp(3*I*k*x)*conjugate(w(tau)) - c3*v(tau)**2*exp(I*k*x)*conjugate(v(tau)) - 2*c3*v(tau)*w(tau)*exp(I*k*x)*conjugate(w(tau)) - 2*c3*v(tau)*w(tau)*exp(-I*k*x)*conjugate(v(tau)) - c3*w(tau)**2*exp(-I*k*x)*conjugate(w(tau)) - c3*w(tau)**2*exp(-3*I*k*x)*conjugate(v(tau)) + I*gamma*z3(x) - I*mu*v(tau)**2*exp(3*I*k*x)*conjugate(w(tau)) - I*mu*v(tau)**2*exp(I*k*x)*conjugate(v(tau)) - 2*I*mu*v(tau)*w(tau)*exp(I*k*x)*conjugate(w(tau)) - 2*I*mu*v(tau)*w(tau)*exp(-I*k*x)*conjugate(v(tau)) - I*mu*w(tau)**2*exp(-I*k*x)*conjugate(w(tau)) - I*mu*w(tau)**2*exp(-3*I*k*x)*conjugate(v(tau)) - q**4*z3(x) + xi0*z3(x) + xi2*v(tau)*exp(I*k*x) + xi2*w(tau)*exp(-I*k*x)) + O(epsilon**4)"
      ]
     },
     "execution_count": 30,
     "metadata": {},
     "output_type": "execute_result"
    }
   ],
   "source": [
    "[xi0,xi2]=symbols('xi0,xi2',real=True);\n",
    "rhs=collect(expand(rhs.subs(a,expand(A*exp(-I*omega*t))).subs(xi,xi0+epsilon**2*xi2)),epsilon); rhs\n",
    "\n"
   ]
  },
  {
   "cell_type": "markdown",
   "id": "c582ba8f",
   "metadata": {},
   "source": [
    "## Order $O(\\epsilon)$"
   ]
  },
  {
   "cell_type": "code",
   "execution_count": 31,
   "id": "f072838c",
   "metadata": {},
   "outputs": [
    {
     "data": {
      "text/latex": [
       "$\\displaystyle i \\omega_{0} v{\\left(\\tau \\right)} e^{i k x} + i \\omega_{0} w{\\left(\\tau \\right)} e^{- i k x}$"
      ],
      "text/plain": [
       "I*omega0*v(tau)*exp(I*k*x) + I*omega0*w(tau)*exp(-I*k*x)"
      ]
     },
     "execution_count": 31,
     "metadata": {},
     "output_type": "execute_result"
    }
   ],
   "source": [
    "lhs.coeff(epsilon,1) # "
   ]
  },
  {
   "cell_type": "code",
   "execution_count": 32,
   "id": "33d4823a",
   "metadata": {},
   "outputs": [
    {
     "data": {
      "text/latex": [
       "$\\displaystyle - \\left(v{\\left(\\tau \\right)} e^{2 i k x} + w{\\left(\\tau \\right)}\\right) \\left(\\Delta^{2} - i \\Delta \\delta + 2 \\Delta q^{2} - i \\gamma + q^{4} - \\xi_{0}\\right) e^{- i k x}$"
      ],
      "text/plain": [
       "-(v(tau)*exp(2*I*k*x) + w(tau))*(Delta**2 - I*Delta*delta + 2*Delta*q**2 - I*gamma + q**4 - xi0)*exp(-I*k*x)"
      ]
     },
     "execution_count": 32,
     "metadata": {},
     "output_type": "execute_result"
    }
   ],
   "source": [
    "factor(rhs.coeff(epsilon,1))"
   ]
  },
  {
   "cell_type": "code",
   "execution_count": 34,
   "id": "4f484b70",
   "metadata": {},
   "outputs": [
    {
     "data": {
      "text/latex": [
       "$\\displaystyle \\left(v{\\left(\\tau \\right)} e^{2 i k x} + w{\\left(\\tau \\right)}\\right) \\left(\\Delta^{2} - i \\Delta \\delta + 2 \\Delta q^{2} - i \\gamma + i \\omega_{0} + q^{4} - \\xi_{0}\\right) e^{- i k x}$"
      ],
      "text/plain": [
       "(v(tau)*exp(2*I*k*x) + w(tau))*(Delta**2 - I*Delta*delta + 2*Delta*q**2 - I*gamma + I*omega0 + q**4 - xi0)*exp(-I*k*x)"
      ]
     },
     "execution_count": 34,
     "metadata": {},
     "output_type": "execute_result"
    }
   ],
   "source": [
    "eo1=factor(lhs.coeff(epsilon,1)-factor(rhs.coeff(epsilon,1))); eo1"
   ]
  },
  {
   "cell_type": "code",
   "execution_count": 35,
   "id": "608f2d34",
   "metadata": {},
   "outputs": [
    {
     "data": {
      "text/latex": [
       "$\\displaystyle i \\delta k^{2} - i \\gamma + k^{4} - 2 k^{2} q^{2} + i \\omega_{0} + q^{4} - \\xi_{0}$"
      ],
      "text/plain": [
       "I*delta*k**2 - I*gamma + k**4 - 2*k**2*q**2 + I*omega0 + q**4 - xi0"
      ]
     },
     "execution_count": 35,
     "metadata": {},
     "output_type": "execute_result"
    }
   ],
   "source": [
    "oo1=simplify(eo1.subs(Delta,-k**2)/(v(tau)*exp(I*k*x)+w(tau)*exp(-I*k*x))); oo1"
   ]
  },
  {
   "cell_type": "code",
   "execution_count": 36,
   "id": "a50d95fb",
   "metadata": {},
   "outputs": [
    {
     "data": {
      "text/plain": [
       "{xi0: k**4 - 2*k**2*q**2 + q**4, omega0: -delta*k**2 + gamma}"
      ]
     },
     "execution_count": 36,
     "metadata": {},
     "output_type": "execute_result"
    }
   ],
   "source": [
    "solve(oo1,xi0,omega0)"
   ]
  },
  {
   "cell_type": "markdown",
   "id": "e941e4f4",
   "metadata": {},
   "source": [
    "Hence, $\\xi_0=(q^2-k^2)^2,\\quad \\omega_0=\\gamma-\\delta k^2.$"
   ]
  },
  {
   "cell_type": "markdown",
   "id": "e3feb0e4",
   "metadata": {},
   "source": [
    "## Order $O(\\epsilon^3)$"
   ]
  },
  {
   "cell_type": "code",
   "execution_count": 37,
   "id": "c6c76d95",
   "metadata": {},
   "outputs": [
    {
     "data": {
      "text/latex": [
       "$\\displaystyle i \\omega_{0} \\operatorname{z_{3}}{\\left(x \\right)} + i \\omega_{2} v{\\left(\\tau \\right)} e^{i k x} + i \\omega_{2} w{\\left(\\tau \\right)} e^{- i k x} + e^{i k x} \\frac{d}{d \\tau} v{\\left(\\tau \\right)} + e^{- i k x} \\frac{d}{d \\tau} w{\\left(\\tau \\right)}$"
      ],
      "text/plain": [
       "I*omega0*z3(x) + I*omega2*v(tau)*exp(I*k*x) + I*omega2*w(tau)*exp(-I*k*x) + exp(I*k*x)*Derivative(v(tau), tau) + exp(-I*k*x)*Derivative(w(tau), tau)"
      ]
     },
     "execution_count": 37,
     "metadata": {},
     "output_type": "execute_result"
    }
   ],
   "source": [
    "lhs3=lhs.coeff(epsilon,3); lhs3"
   ]
  },
  {
   "cell_type": "code",
   "execution_count": 39,
   "id": "e53f9848",
   "metadata": {},
   "outputs": [
    {
     "data": {
      "text/latex": [
       "$\\displaystyle - \\left(\\Delta^{2} \\operatorname{z_{3}}{\\left(x \\right)} e^{3 i k x} - i \\Delta \\delta \\operatorname{z_{3}}{\\left(x \\right)} e^{3 i k x} + 2 \\Delta q^{2} \\operatorname{z_{3}}{\\left(x \\right)} e^{3 i k x} + c_{3} v^{2}{\\left(\\tau \\right)} e^{6 i k x} \\overline{w{\\left(\\tau \\right)}} + c_{3} v^{2}{\\left(\\tau \\right)} e^{4 i k x} \\overline{v{\\left(\\tau \\right)}} + 2 c_{3} v{\\left(\\tau \\right)} w{\\left(\\tau \\right)} e^{4 i k x} \\overline{w{\\left(\\tau \\right)}} + 2 c_{3} v{\\left(\\tau \\right)} w{\\left(\\tau \\right)} e^{2 i k x} \\overline{v{\\left(\\tau \\right)}} + c_{3} w^{2}{\\left(\\tau \\right)} e^{2 i k x} \\overline{w{\\left(\\tau \\right)}} + c_{3} w^{2}{\\left(\\tau \\right)} \\overline{v{\\left(\\tau \\right)}} - i \\gamma \\operatorname{z_{3}}{\\left(x \\right)} e^{3 i k x} + i \\mu v^{2}{\\left(\\tau \\right)} e^{6 i k x} \\overline{w{\\left(\\tau \\right)}} + i \\mu v^{2}{\\left(\\tau \\right)} e^{4 i k x} \\overline{v{\\left(\\tau \\right)}} + 2 i \\mu v{\\left(\\tau \\right)} w{\\left(\\tau \\right)} e^{4 i k x} \\overline{w{\\left(\\tau \\right)}} + 2 i \\mu v{\\left(\\tau \\right)} w{\\left(\\tau \\right)} e^{2 i k x} \\overline{v{\\left(\\tau \\right)}} + i \\mu w^{2}{\\left(\\tau \\right)} e^{2 i k x} \\overline{w{\\left(\\tau \\right)}} + i \\mu w^{2}{\\left(\\tau \\right)} \\overline{v{\\left(\\tau \\right)}} + q^{4} \\operatorname{z_{3}}{\\left(x \\right)} e^{3 i k x} - \\xi_{0} \\operatorname{z_{3}}{\\left(x \\right)} e^{3 i k x} - \\xi_{2} v{\\left(\\tau \\right)} e^{4 i k x} - \\xi_{2} w{\\left(\\tau \\right)} e^{2 i k x}\\right) e^{- 3 i k x}$"
      ],
      "text/plain": [
       "-(Delta**2*z3(x)*exp(3*I*k*x) - I*Delta*delta*z3(x)*exp(3*I*k*x) + 2*Delta*q**2*z3(x)*exp(3*I*k*x) + c3*v(tau)**2*exp(6*I*k*x)*conjugate(w(tau)) + c3*v(tau)**2*exp(4*I*k*x)*conjugate(v(tau)) + 2*c3*v(tau)*w(tau)*exp(4*I*k*x)*conjugate(w(tau)) + 2*c3*v(tau)*w(tau)*exp(2*I*k*x)*conjugate(v(tau)) + c3*w(tau)**2*exp(2*I*k*x)*conjugate(w(tau)) + c3*w(tau)**2*conjugate(v(tau)) - I*gamma*z3(x)*exp(3*I*k*x) + I*mu*v(tau)**2*exp(6*I*k*x)*conjugate(w(tau)) + I*mu*v(tau)**2*exp(4*I*k*x)*conjugate(v(tau)) + 2*I*mu*v(tau)*w(tau)*exp(4*I*k*x)*conjugate(w(tau)) + 2*I*mu*v(tau)*w(tau)*exp(2*I*k*x)*conjugate(v(tau)) + I*mu*w(tau)**2*exp(2*I*k*x)*conjugate(w(tau)) + I*mu*w(tau)**2*conjugate(v(tau)) + q**4*z3(x)*exp(3*I*k*x) - xi0*z3(x)*exp(3*I*k*x) - xi2*v(tau)*exp(4*I*k*x) - xi2*w(tau)*exp(2*I*k*x))*exp(-3*I*k*x)"
      ]
     },
     "execution_count": 39,
     "metadata": {},
     "output_type": "execute_result"
    }
   ],
   "source": [
    "rhs3=factor(rhs.coeff(epsilon,3));  rhs3"
   ]
  },
  {
   "cell_type": "markdown",
   "id": "ee964202",
   "metadata": {},
   "source": [
    "So, the equation at this order is"
   ]
  },
  {
   "cell_type": "code",
   "execution_count": 40,
   "id": "dddc8c61",
   "metadata": {},
   "outputs": [
    {
     "data": {
      "text/latex": [
       "$\\displaystyle \\Delta^{2} \\operatorname{z_{3}}{\\left(x \\right)} - i \\Delta \\delta \\operatorname{z_{3}}{\\left(x \\right)} + 2 \\Delta q^{2} \\operatorname{z_{3}}{\\left(x \\right)} - i \\gamma \\operatorname{z_{3}}{\\left(x \\right)} + i \\omega_{0} \\operatorname{z_{3}}{\\left(x \\right)} + q^{4} \\operatorname{z_{3}}{\\left(x \\right)} - \\xi_{0} \\operatorname{z_{3}}{\\left(x \\right)} + \\left(c_{3} v^{2}{\\left(\\tau \\right)} \\overline{w{\\left(\\tau \\right)}} + i \\mu v^{2}{\\left(\\tau \\right)} \\overline{w{\\left(\\tau \\right)}}\\right) e^{3 i k x} + \\left(c_{3} w^{2}{\\left(\\tau \\right)} \\overline{v{\\left(\\tau \\right)}} + i \\mu w^{2}{\\left(\\tau \\right)} \\overline{v{\\left(\\tau \\right)}}\\right) e^{- 3 i k x} + \\left(c_{3} v^{2}{\\left(\\tau \\right)} \\overline{v{\\left(\\tau \\right)}} + 2 c_{3} v{\\left(\\tau \\right)} w{\\left(\\tau \\right)} \\overline{w{\\left(\\tau \\right)}} + i \\mu v^{2}{\\left(\\tau \\right)} \\overline{v{\\left(\\tau \\right)}} + 2 i \\mu v{\\left(\\tau \\right)} w{\\left(\\tau \\right)} \\overline{w{\\left(\\tau \\right)}} + i \\omega_{2} v{\\left(\\tau \\right)} - \\xi_{2} v{\\left(\\tau \\right)} + \\frac{d}{d \\tau} v{\\left(\\tau \\right)}\\right) e^{i k x} + \\left(2 c_{3} v{\\left(\\tau \\right)} w{\\left(\\tau \\right)} \\overline{v{\\left(\\tau \\right)}} + c_{3} w^{2}{\\left(\\tau \\right)} \\overline{w{\\left(\\tau \\right)}} + 2 i \\mu v{\\left(\\tau \\right)} w{\\left(\\tau \\right)} \\overline{v{\\left(\\tau \\right)}} + i \\mu w^{2}{\\left(\\tau \\right)} \\overline{w{\\left(\\tau \\right)}} + i \\omega_{2} w{\\left(\\tau \\right)} - \\xi_{2} w{\\left(\\tau \\right)} + \\frac{d}{d \\tau} w{\\left(\\tau \\right)}\\right) e^{- i k x}$"
      ],
      "text/plain": [
       "Delta**2*z3(x) - I*Delta*delta*z3(x) + 2*Delta*q**2*z3(x) - I*gamma*z3(x) + I*omega0*z3(x) + q**4*z3(x) - xi0*z3(x) + (c3*v(tau)**2*conjugate(w(tau)) + I*mu*v(tau)**2*conjugate(w(tau)))*exp(3*I*k*x) + (c3*w(tau)**2*conjugate(v(tau)) + I*mu*w(tau)**2*conjugate(v(tau)))*exp(-3*I*k*x) + (c3*v(tau)**2*conjugate(v(tau)) + 2*c3*v(tau)*w(tau)*conjugate(w(tau)) + I*mu*v(tau)**2*conjugate(v(tau)) + 2*I*mu*v(tau)*w(tau)*conjugate(w(tau)) + I*omega2*v(tau) - xi2*v(tau) + Derivative(v(tau), tau))*exp(I*k*x) + (2*c3*v(tau)*w(tau)*conjugate(v(tau)) + c3*w(tau)**2*conjugate(w(tau)) + 2*I*mu*v(tau)*w(tau)*conjugate(v(tau)) + I*mu*w(tau)**2*conjugate(w(tau)) + I*omega2*w(tau) - xi2*w(tau) + Derivative(w(tau), tau))*exp(-I*k*x)"
      ]
     },
     "execution_count": 40,
     "metadata": {},
     "output_type": "execute_result"
    }
   ],
   "source": [
    "eqq3=collect(expand(lhs3-rhs3),exp(I*k*x)); eqq3"
   ]
  },
  {
   "cell_type": "code",
   "execution_count": 41,
   "id": "c579845d",
   "metadata": {},
   "outputs": [],
   "source": [
    "tore=Eq(eqq3.coeff(z3(x))*z3(x),collect(expand(-eqq3+(eqq3.coeff(z3(x))*z3(x))),exp(I*k*x))); #third order eq"
   ]
  },
  {
   "cell_type": "code",
   "execution_count": 42,
   "id": "38b69457",
   "metadata": {},
   "outputs": [
    {
     "data": {
      "text/latex": [
       "$\\displaystyle \\left(\\Delta^{2} - i \\Delta \\delta + 2 \\Delta q^{2} - i \\gamma + i \\omega_{0} + q^{4} - \\xi_{0}\\right) \\operatorname{z_{3}}{\\left(x \\right)} = \\left(- c_{3} v^{2}{\\left(\\tau \\right)} \\overline{w{\\left(\\tau \\right)}} - i \\mu v^{2}{\\left(\\tau \\right)} \\overline{w{\\left(\\tau \\right)}}\\right) e^{3 i k x} + \\left(- c_{3} w^{2}{\\left(\\tau \\right)} \\overline{v{\\left(\\tau \\right)}} - i \\mu w^{2}{\\left(\\tau \\right)} \\overline{v{\\left(\\tau \\right)}}\\right) e^{- 3 i k x} + \\left(- c_{3} v^{2}{\\left(\\tau \\right)} \\overline{v{\\left(\\tau \\right)}} - 2 c_{3} v{\\left(\\tau \\right)} w{\\left(\\tau \\right)} \\overline{w{\\left(\\tau \\right)}} - i \\mu v^{2}{\\left(\\tau \\right)} \\overline{v{\\left(\\tau \\right)}} - 2 i \\mu v{\\left(\\tau \\right)} w{\\left(\\tau \\right)} \\overline{w{\\left(\\tau \\right)}} - i \\omega_{2} v{\\left(\\tau \\right)} + \\xi_{2} v{\\left(\\tau \\right)} - \\frac{d}{d \\tau} v{\\left(\\tau \\right)}\\right) e^{i k x} + \\left(- 2 c_{3} v{\\left(\\tau \\right)} w{\\left(\\tau \\right)} \\overline{v{\\left(\\tau \\right)}} - c_{3} w^{2}{\\left(\\tau \\right)} \\overline{w{\\left(\\tau \\right)}} - 2 i \\mu v{\\left(\\tau \\right)} w{\\left(\\tau \\right)} \\overline{v{\\left(\\tau \\right)}} - i \\mu w^{2}{\\left(\\tau \\right)} \\overline{w{\\left(\\tau \\right)}} - i \\omega_{2} w{\\left(\\tau \\right)} + \\xi_{2} w{\\left(\\tau \\right)} - \\frac{d}{d \\tau} w{\\left(\\tau \\right)}\\right) e^{- i k x}$"
      ],
      "text/plain": [
       "Eq((Delta**2 - I*Delta*delta + 2*Delta*q**2 - I*gamma + I*omega0 + q**4 - xi0)*z3(x), (-c3*v(tau)**2*conjugate(w(tau)) - I*mu*v(tau)**2*conjugate(w(tau)))*exp(3*I*k*x) + (-c3*w(tau)**2*conjugate(v(tau)) - I*mu*w(tau)**2*conjugate(v(tau)))*exp(-3*I*k*x) + (-c3*v(tau)**2*conjugate(v(tau)) - 2*c3*v(tau)*w(tau)*conjugate(w(tau)) - I*mu*v(tau)**2*conjugate(v(tau)) - 2*I*mu*v(tau)*w(tau)*conjugate(w(tau)) - I*omega2*v(tau) + xi2*v(tau) - Derivative(v(tau), tau))*exp(I*k*x) + (-2*c3*v(tau)*w(tau)*conjugate(v(tau)) - c3*w(tau)**2*conjugate(w(tau)) - 2*I*mu*v(tau)*w(tau)*conjugate(v(tau)) - I*mu*w(tau)**2*conjugate(w(tau)) - I*omega2*w(tau) + xi2*w(tau) - Derivative(w(tau), tau))*exp(-I*k*x))"
      ]
     },
     "execution_count": 42,
     "metadata": {},
     "output_type": "execute_result"
    }
   ],
   "source": [
    "tore"
   ]
  },
  {
   "cell_type": "markdown",
   "id": "215eb52c",
   "metadata": {},
   "source": [
    "The left hand side just has the linear equation again, given by "
   ]
  },
  {
   "cell_type": "code",
   "execution_count": 43,
   "id": "2f2308b6",
   "metadata": {},
   "outputs": [
    {
     "data": {
      "text/latex": [
       "$\\displaystyle \\left(\\Delta^{2} - i \\Delta \\delta + 2 \\Delta q^{2} - i \\gamma + i \\omega_{0} + q^{4} - \\xi_{0}\\right) \\operatorname{z_{3}}{\\left(x \\right)}$"
      ],
      "text/plain": [
       "(Delta**2 - I*Delta*delta + 2*Delta*q**2 - I*gamma + I*omega0 + q**4 - xi0)*z3(x)"
      ]
     },
     "execution_count": 43,
     "metadata": {},
     "output_type": "execute_result"
    }
   ],
   "source": [
    "tore.lhs"
   ]
  },
  {
   "cell_type": "markdown",
   "id": "9dcec9fe",
   "metadata": {},
   "source": [
    "Whose solutions is known. Using the inner product $<f|g>=\\int_0 ^T \\bar{f}(x) g(x) dx$, the adjoint of the linear operator is giving by"
   ]
  },
  {
   "cell_type": "code",
   "execution_count": 44,
   "id": "c8ad934d",
   "metadata": {},
   "outputs": [
    {
     "data": {
      "text/latex": [
       "$\\displaystyle \\Delta^{2} + i \\Delta \\delta + 2 \\Delta q^{2} + i \\gamma - i \\omega_{0} + q^{4} - \\xi_{0}$"
      ],
      "text/plain": [
       "Delta**2 + I*Delta*delta + 2*Delta*q**2 + I*gamma - I*omega0 + q**4 - xi0"
      ]
     },
     "execution_count": 44,
     "metadata": {},
     "output_type": "execute_result"
    }
   ],
   "source": [
    "tore.lhs.coeff(z3(x),1).subs(I,-I)"
   ]
  },
  {
   "cell_type": "markdown",
   "id": "3dae6bdd",
   "metadata": {},
   "source": [
    "Whose kernel is again $u_\\pm =u_{0,\\pm} e^{\\pm i k x}$. Consequently, the solvability conditions are"
   ]
  },
  {
   "cell_type": "code",
   "execution_count": 86,
   "id": "bec86c27",
   "metadata": {},
   "outputs": [
    {
     "data": {
      "text/latex": [
       "$\\displaystyle \\frac{d}{d \\tau} v{\\left(\\tau \\right)} = \\left(- i \\omega_{2} + \\xi_{2} + \\left(c_{3} + i \\mu\\right) \\left(- v{\\left(\\tau \\right)} \\overline{v{\\left(\\tau \\right)}} - 2 w{\\left(\\tau \\right)} \\overline{w{\\left(\\tau \\right)}}\\right)\\right) v{\\left(\\tau \\right)}$"
      ],
      "text/plain": [
       "Eq(Derivative(v(tau), tau), (-I*omega2 + xi2 + (c3 + I*mu)*(-v(tau)*conjugate(v(tau)) - 2*w(tau)*conjugate(w(tau))))*v(tau))"
      ]
     },
     "execution_count": 86,
     "metadata": {},
     "output_type": "execute_result"
    }
   ],
   "source": [
    "amp1=Eq(diff(v(tau),tau),(collect(collect(collect(simplify(tore.rhs.coeff(exp(I*k*x)).subs(diff(v(tau),tau),0))/v(tau),I*mu),c3),-v(tau)*conjugate(v(tau))-2*w(tau)*conjugate(w(tau))))*v(tau));\n",
    "amp1"
   ]
  },
  {
   "cell_type": "code",
   "execution_count": 79,
   "id": "30026869",
   "metadata": {},
   "outputs": [
    {
     "data": {
      "text/latex": [
       "$\\displaystyle \\frac{d}{d \\tau} w{\\left(\\tau \\right)} = \\left(- i \\omega_{2} + \\xi_{2} + \\left(c_{3} + i \\mu\\right) \\left(- 2 v{\\left(\\tau \\right)} \\overline{v{\\left(\\tau \\right)}} - w{\\left(\\tau \\right)} \\overline{w{\\left(\\tau \\right)}}\\right)\\right) w{\\left(\\tau \\right)}$"
      ],
      "text/plain": [
       "Eq(Derivative(w(tau), tau), (-I*omega2 + xi2 + (c3 + I*mu)*(-2*v(tau)*conjugate(v(tau)) - w(tau)*conjugate(w(tau))))*w(tau))"
      ]
     },
     "execution_count": 79,
     "metadata": {},
     "output_type": "execute_result"
    }
   ],
   "source": [
    "amp2=Eq(diff(w(tau),tau),(collect(collect(collect(simplify(tore.rhs.coeff(exp(-I*k*x)).subs(diff(w(tau),tau),0))/w(tau),I*mu),c3),-2*v(tau)*conjugate(v(tau))-w(tau)*conjugate(w(tau))))*w(tau)); amp2"
   ]
  },
  {
   "cell_type": "markdown",
   "id": "c8f57b6c",
   "metadata": {},
   "source": [
    "Now, we replace $v(t)=x_1 e^{i \\varphi_1}$ and $w(t)=x_2 e^{i \\varphi_2}$"
   ]
  },
  {
   "cell_type": "code",
   "execution_count": 80,
   "id": "e0c5c4d1",
   "metadata": {},
   "outputs": [],
   "source": [
    "x1=Function('x1',real=True); varphi1=Function('varphi1',real=True);\n",
    "x2=Function('x2',real=True); varphi2=Function('varphi2',real=True);"
   ]
  },
  {
   "cell_type": "code",
   "execution_count": 89,
   "id": "5d1b4854",
   "metadata": {},
   "outputs": [
    {
     "data": {
      "text/latex": [
       "$\\displaystyle \\left(- i \\omega_{2} + \\xi_{2} + \\left(c_{3} + i \\mu\\right) \\left(- \\operatorname{x_{1}}^{2}{\\left(\\tau \\right)} - 2 \\operatorname{x_{2}}^{2}{\\left(\\tau \\right)}\\right)\\right) \\operatorname{x_{1}}{\\left(\\tau \\right)} e^{i \\varphi_{1}{\\left(\\tau \\right)}} - i \\operatorname{x_{1}}{\\left(\\tau \\right)} e^{i \\varphi_{1}{\\left(\\tau \\right)}} \\frac{d}{d \\tau} \\varphi_{1}{\\left(\\tau \\right)} - e^{i \\varphi_{1}{\\left(\\tau \\right)}} \\frac{d}{d \\tau} \\operatorname{x_{1}}{\\left(\\tau \\right)}$"
      ],
      "text/plain": [
       "(-I*omega2 + xi2 + (c3 + I*mu)*(-x1(tau)**2 - 2*x2(tau)**2))*x1(tau)*exp(I*varphi1(tau)) - I*x1(tau)*exp(I*varphi1(tau))*Derivative(varphi1(tau), tau) - exp(I*varphi1(tau))*Derivative(x1(tau), tau)"
      ]
     },
     "execution_count": 89,
     "metadata": {},
     "output_type": "execute_result"
    }
   ],
   "source": [
    "(amp1.rhs-amp1.lhs).subs([\n",
    "    (v(tau),x1(tau)*exp(varphi1(tau)*I)),\n",
    "    (w(tau),x2(tau)*exp(varphi2(tau)*I))]).doit()"
   ]
  },
  {
   "cell_type": "code",
   "execution_count": null,
   "id": "2c14c053",
   "metadata": {},
   "outputs": [],
   "source": []
  }
 ],
 "metadata": {
  "kernelspec": {
   "display_name": "Python 3 (ipykernel)",
   "language": "python",
   "name": "python3"
  },
  "language_info": {
   "codemirror_mode": {
    "name": "ipython",
    "version": 3
   },
   "file_extension": ".py",
   "mimetype": "text/x-python",
   "name": "python",
   "nbconvert_exporter": "python",
   "pygments_lexer": "ipython3",
   "version": "3.10.1"
  }
 },
 "nbformat": 4,
 "nbformat_minor": 5
}
