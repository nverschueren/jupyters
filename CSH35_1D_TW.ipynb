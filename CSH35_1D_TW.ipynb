{
 "cells": [
  {
   "cell_type": "markdown",
   "id": "3384d0b5",
   "metadata": {},
   "source": [
    "# Computing traveling and stationary waves in the CSH35 model in 1D with periodic boundary conditions:\n",
    "$$\\partial_t A=(\\alpha+i \\gamma)A-(C_3+i\\mu)|A|^2A-C_5 |A|^4A-(q^2+\\nabla^2)^2 A+i\\delta \\nabla^2 A$$\n",
    " Using the Ansatz $$a=\\epsilon(A(t)e^{ikx}+B(t)e^{-ikx})e^{i\\omega_0 t}$$"
   ]
  },
  {
   "cell_type": "code",
   "execution_count": 1,
   "id": "3dca40ec",
   "metadata": {},
   "outputs": [],
   "source": [
    "from sympy import *"
   ]
  },
  {
   "cell_type": "code",
   "execution_count": null,
   "id": "3b1e741c",
   "metadata": {},
   "outputs": [],
   "source": []
  }
 ],
 "metadata": {
  "kernelspec": {
   "display_name": "Python 3 (ipykernel)",
   "language": "python",
   "name": "python3"
  },
  "language_info": {
   "codemirror_mode": {
    "name": "ipython",
    "version": 3
   },
   "file_extension": ".py",
   "mimetype": "text/x-python",
   "name": "python",
   "nbconvert_exporter": "python",
   "pygments_lexer": "ipython3",
   "version": "3.10.1"
  }
 },
 "nbformat": 4,
 "nbformat_minor": 5
}
