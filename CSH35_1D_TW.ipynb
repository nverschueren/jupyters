{
 "cells": [
  {
   "cell_type": "markdown",
   "id": "7d4bd1ab",
   "metadata": {},
   "source": [
    "# Computing traveling and stationary waves in the CSH35 model in 1D with periodic boundary conditions:\n",
    "$$\\partial_t A=(\\alpha+i \\gamma)A-(C_3+i\\mu)|A|^2A-C_5 |A|^4A-(q^2+\\nabla^2)^2 A+i\\delta \\nabla^2 A$$\n",
    " Using the Ansatz $$a=\\epsilon(A(t)e^{ikx}+B(t)e^{-ikx})e^{i\\omega_0 t}$$"
   ]
  },
  {
   "cell_type": "code",
   "execution_count": 1,
   "id": "76308a05",
   "metadata": {},
   "outputs": [],
   "source": [
    "from sympy import *"
   ]
  },
  {
   "cell_type": "code",
   "execution_count": 31,
   "id": "705f9591",
   "metadata": {},
   "outputs": [],
   "source": [
    "x,t,alpha,gamma,q,delta,k,omega,am,C3,C5,mu=symbols('x,t,alpha,gamma,q,delta,k,omega,am,C3,C5,mu',real=True)"
   ]
  },
  {
   "cell_type": "code",
   "execution_count": 42,
   "id": "9024126c",
   "metadata": {},
   "outputs": [],
   "source": [
    "A=Function('A',real=True); B=Function('B',real=True)"
   ]
  },
  {
   "cell_type": "code",
   "execution_count": 27,
   "id": "a2e664cc",
   "metadata": {},
   "outputs": [
    {
     "data": {
      "text/latex": [
       "$\\displaystyle \\left(A{\\left(t \\right)} e^{i k x} + B{\\left(t \\right)} e^{- i k x}\\right) e^{i \\omega t}$"
      ],
      "text/plain": [
       "(A(t)*exp(I*k*x) + B(t)*exp(-I*k*x))*exp(I*omega*t)"
      ]
     },
     "execution_count": 27,
     "metadata": {},
     "output_type": "execute_result"
    }
   ],
   "source": [
    "AA=(A(t)*exp(I*k*x)+B(t)*exp(-I*k*x))*exp(I*omega*t); AA"
   ]
  },
  {
   "cell_type": "markdown",
   "id": "5b2d3471",
   "metadata": {},
   "source": [
    "## In the linear problem"
   ]
  },
  {
   "cell_type": "code",
   "execution_count": 44,
   "id": "894cadf1",
   "metadata": {},
   "outputs": [
    {
     "data": {
      "text/latex": [
       "$\\displaystyle i \\omega A{\\left(t \\right)} e^{i k x} + i \\omega B{\\left(t \\right)} e^{- i k x} + e^{i k x} \\frac{d}{d t} A{\\left(t \\right)} + e^{- i k x} \\frac{d}{d t} B{\\left(t \\right)}$"
      ],
      "text/plain": [
       "I*omega*A(t)*exp(I*k*x) + I*omega*B(t)*exp(-I*k*x) + exp(I*k*x)*Derivative(A(t), t) + exp(-I*k*x)*Derivative(B(t), t)"
      ]
     },
     "execution_count": 44,
     "metadata": {},
     "output_type": "execute_result"
    }
   ],
   "source": [
    "expand(diff(AA,t)*exp(-I*omega*t))"
   ]
  },
  {
   "cell_type": "code",
   "execution_count": 36,
   "id": "2855578d",
   "metadata": {},
   "outputs": [
    {
     "data": {
      "text/latex": [
       "$\\displaystyle am \\left(- C_{3} am^{2} \\cos{\\left(k x + \\omega \\right)} - 3 C_{5} am^{2} \\cos{\\left(k x + \\omega \\right)} - \\alpha \\cos{\\left(k x + \\omega \\right)} + am^{2} \\mu \\sin{\\left(k x + \\omega \\right)} + \\delta k^{2} \\sin{\\left(k x + \\omega \\right)} + \\gamma \\sin{\\left(k x + \\omega \\right)} - \\omega \\sin{\\left(k x + \\omega \\right)} - \\left(k^{2} - q^{2}\\right)^{2} \\cos{\\left(k x + \\omega \\right)}\\right)$"
      ],
      "text/plain": [
       "am*(-C3*am**2*cos(k*x + omega) - 3*C5*am**2*cos(k*x + omega) - alpha*cos(k*x + omega) + am**2*mu*sin(k*x + omega) + delta*k**2*sin(k*x + omega) + gamma*sin(k*x + omega) - omega*sin(k*x + omega) - (k**2 - q**2)**2*cos(k*x + omega))"
      ]
     },
     "execution_count": 36,
     "metadata": {},
     "output_type": "execute_result"
    }
   ],
   "source": []
  },
  {
   "cell_type": "code",
   "execution_count": null,
   "id": "86012eb0",
   "metadata": {},
   "outputs": [],
   "source": []
  }
 ],
 "metadata": {
  "kernelspec": {
   "display_name": "Python 3 (ipykernel)",
   "language": "python",
   "name": "python3"
  },
  "language_info": {
   "codemirror_mode": {
    "name": "ipython",
    "version": 3
   },
   "file_extension": ".py",
   "mimetype": "text/x-python",
   "name": "python",
   "nbconvert_exporter": "python",
   "pygments_lexer": "ipython3",
   "version": "3.10.1"
  }
 },
 "nbformat": 4,
 "nbformat_minor": 5
}
